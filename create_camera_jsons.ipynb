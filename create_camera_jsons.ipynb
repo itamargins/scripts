{
 "cells": [
  {
   "cell_type": "code",
   "execution_count": 1,
   "metadata": {},
   "outputs": [],
   "source": [
    "import json\n",
    "import os"
   ]
  },
  {
   "cell_type": "code",
   "execution_count": 2,
   "metadata": {},
   "outputs": [],
   "source": [
    "# PARAMETERS\n",
    "TRIP = ''\n",
    "SAVE_LOCATION = ''\n"
   ]
  },
  {
   "cell_type": "code",
   "execution_count": 3,
   "metadata": {},
   "outputs": [],
   "source": [
    "out = {\"images\":[],\n",
    "        \"annotations\":[],\n",
    "        \"categories\":[],\n",
    "        \"cameras_info\":{}}\n",
    "\n",
    "with open('/home/imagry/offline_data/first_kia_trips/first_kia_trips.json', 'r') as template:\n",
    "    template_data = json.load(template)\n",
    "out['categories'] = template_data['categories']\n",
    "out['cameras_info'] = template_data['cameras_info']"
   ]
  },
  {
   "cell_type": "code",
   "execution_count": 4,
   "metadata": {},
   "outputs": [],
   "source": [
    "root = '/home/imagry/offline_data/2023-10-18T16_05_00/3d_images/'\n",
    "cameras = list(range(8))"
   ]
  },
  {
   "cell_type": "code",
   "execution_count": 5,
   "metadata": {},
   "outputs": [],
   "source": [
    "cam_idx_to_fov = {\n",
    "     '0':93,\n",
    "     '1':93,\n",
    "     '2':110,\n",
    "     '3':58,\n",
    "     '4':25,\n",
    "     '5':93,\n",
    "     '6':93, \n",
    "     '7':130\n",
    "}\n"
   ]
  },
  {
   "cell_type": "code",
   "execution_count": 6,
   "metadata": {},
   "outputs": [
    {
     "name": "stdout",
     "output_type": "stream",
     "text": [
      "3914\n",
      "2609\n",
      "3913\n",
      "2609\n",
      "2609\n",
      "2609\n",
      "3913\n",
      "1304\n"
     ]
    }
   ],
   "source": [
    "counter = 0\n",
    "for camera in cameras:\n",
    "    out['images'] = []\n",
    "    dir = os.path.join(root, str(camera), 'left')\n",
    "    for image in sorted(os.listdir(dir)):\n",
    "        image_path = os.path.join(root, str(camera), 'left',image)\n",
    "        # print(image_path)\n",
    "        data = {\n",
    "            \"file_name\": image_path,\n",
    "            \"id\": counter,\n",
    "            \"fov\": cam_idx_to_fov.get(image_path.split('/')[-3]),\n",
    "            \"vehicle_id\": \"NIROEV_HA_02\",\n",
    "            \"camera_type\": 'entron'\n",
    "        }\n",
    "        # print(data)\n",
    "        out[\"images\"].append(data)\n",
    "        counter+=1\n",
    "    with open(f'/home/imagry/offline_data/2023-10-18T16_05_00/3d_images/datasets/image_list_cam{camera}.json', 'w') as outfile:\n",
    "        json.dump(out, outfile, indent='')\n",
    "    print(len(out['images']))"
   ]
  },
  {
   "cell_type": "code",
   "execution_count": 7,
   "metadata": {},
   "outputs": [
    {
     "name": "stdout",
     "output_type": "stream",
     "text": [
      "images 1304\n",
      "annotations 0\n",
      "categories 194\n",
      "cameras_info 2\n"
     ]
    }
   ],
   "source": [
    "for key, val in out.items():\n",
    "    print(key, len(val))"
   ]
  },
  {
   "cell_type": "code",
   "execution_count": null,
   "metadata": {},
   "outputs": [],
   "source": []
  },
  {
   "cell_type": "code",
   "execution_count": null,
   "metadata": {},
   "outputs": [],
   "source": []
  }
 ],
 "metadata": {
  "kernelspec": {
   "display_name": "detector",
   "language": "python",
   "name": "python3"
  },
  "language_info": {
   "codemirror_mode": {
    "name": "ipython",
    "version": 3
   },
   "file_extension": ".py",
   "mimetype": "text/x-python",
   "name": "python",
   "nbconvert_exporter": "python",
   "pygments_lexer": "ipython3",
   "version": "3.10.12"
  }
 },
 "nbformat": 4,
 "nbformat_minor": 2
}
